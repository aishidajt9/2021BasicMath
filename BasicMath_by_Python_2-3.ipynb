{
 "cells": [
  {
   "cell_type": "markdown",
   "metadata": {},
   "source": [
    "# Basic Mathmatics by Python 2-3\n",
    "GSOC「数理・データサイエンスのための基礎数学」参考資料\n",
    "\n",
    "石田　淳 (aishida@kwansei.ac.jp)"
   ]
  },
  {
   "cell_type": "markdown",
   "metadata": {},
   "source": [
    "## 2章  論理(1)"
   ]
  },
  {
   "cell_type": "markdown",
   "metadata": {},
   "source": [
    "Pythonでは，TrueとFalseのブール値（真理値）がある．`type()`関数で確認する．"
   ]
  },
  {
   "cell_type": "code",
   "execution_count": 1,
   "metadata": {},
   "outputs": [
    {
     "data": {
      "text/plain": [
       "[bool, bool]"
      ]
     },
     "execution_count": 1,
     "metadata": {},
     "output_type": "execute_result"
    }
   ],
   "source": [
    "[type(True), type(False)]"
   ]
  },
  {
   "cell_type": "markdown",
   "metadata": {},
   "source": [
    "### 論理和\n",
    "論理和$\\lor$は，Pythonではそのまま`or`である．"
   ]
  },
  {
   "cell_type": "code",
   "execution_count": 2,
   "metadata": {},
   "outputs": [
    {
     "data": {
      "text/plain": [
       "True"
      ]
     },
     "execution_count": 2,
     "metadata": {},
     "output_type": "execute_result"
    }
   ],
   "source": [
    "True or False"
   ]
  },
  {
   "cell_type": "code",
   "execution_count": 3,
   "metadata": {},
   "outputs": [
    {
     "name": "stdout",
     "output_type": "stream",
     "text": [
      "False\n"
     ]
    }
   ],
   "source": [
    "age = 18\n",
    "gender = \"F\"\n",
    "\n",
    "if (age >= 20) or (gender == \"M\"):\n",
    "    print(\"20歳以上もしくは男性\")\n",
    "else:\n",
    "    print(\"False\")"
   ]
  },
  {
   "cell_type": "markdown",
   "metadata": {},
   "source": [
    "論理和$\\lor$の真理表を構成する．"
   ]
  },
  {
   "cell_type": "code",
   "execution_count": 4,
   "metadata": {},
   "outputs": [
    {
     "name": "stdout",
     "output_type": "stream",
     "text": [
      "  p  |   q   |  p or q\n",
      "-----------------------\n",
      "True | True | True\n",
      "True | False | True\n",
      "False | True | True\n",
      "False | False | False\n"
     ]
    }
   ],
   "source": [
    "print('  p  |   q   |  p or q')\n",
    "print('-----------------------')\n",
    "for p in (True, False):\n",
    "    for q in (True, False):\n",
    "        print(p,'|', q,'|', p or q)"
   ]
  },
  {
   "cell_type": "markdown",
   "metadata": {},
   "source": [
    "map関数を使って同じことをやる．"
   ]
  },
  {
   "cell_type": "code",
   "execution_count": 5,
   "metadata": {},
   "outputs": [],
   "source": [
    "p = [True, True, False, False]\n",
    "q = [True, False, True, False]"
   ]
  },
  {
   "cell_type": "code",
   "execution_count": 6,
   "metadata": {},
   "outputs": [
    {
     "data": {
      "text/plain": [
       "[True, True, True, False]"
      ]
     },
     "execution_count": 6,
     "metadata": {},
     "output_type": "execute_result"
    }
   ],
   "source": [
    "list(map(lambda x, y: x or y, p, q))"
   ]
  },
  {
   "cell_type": "code",
   "execution_count": 7,
   "metadata": {},
   "outputs": [],
   "source": [
    "# # ちなみに，numpyパッケージを使って以下のようにもできる．\n",
    "# import numpy as np\n",
    "# p = np.array([True, True, False, False])\n",
    "# q = np.array([True, False, True, False])\n",
    "# p_or_q = p | q # orだとエラーになる．ビッド演算子を使う．\n",
    "# print(np.column_stack([p,q, p_or_q]))"
   ]
  },
  {
   "cell_type": "markdown",
   "metadata": {},
   "source": [
    "### 論理積\n",
    "論理積$\\land$の真理表"
   ]
  },
  {
   "cell_type": "code",
   "execution_count": 8,
   "metadata": {},
   "outputs": [
    {
     "data": {
      "text/plain": [
       "False"
      ]
     },
     "execution_count": 8,
     "metadata": {},
     "output_type": "execute_result"
    }
   ],
   "source": [
    "True and False"
   ]
  },
  {
   "cell_type": "code",
   "execution_count": 9,
   "metadata": {},
   "outputs": [
    {
     "name": "stdout",
     "output_type": "stream",
     "text": [
      "20歳以上かつ男性\n"
     ]
    }
   ],
   "source": [
    "age = 25\n",
    "gender = \"M\"\n",
    "\n",
    "if (age >= 20) and (gender == \"M\"):\n",
    "    print(\"20歳以上かつ男性\")\n",
    "else:\n",
    "    print(\"False\")"
   ]
  },
  {
   "cell_type": "code",
   "execution_count": 10,
   "metadata": {},
   "outputs": [
    {
     "name": "stdout",
     "output_type": "stream",
     "text": [
      "  p  |   q   |  p and q\n",
      "-----------------------\n",
      "True | True | True\n",
      "True | False | False\n",
      "False | True | False\n",
      "False | False | False\n"
     ]
    }
   ],
   "source": [
    "print('  p  |   q   |  p and q')\n",
    "print('-----------------------')\n",
    "for p in (True, False):\n",
    "    for q in (True, False):\n",
    "        print(p,'|', q,'|', p and q)"
   ]
  },
  {
   "cell_type": "markdown",
   "metadata": {},
   "source": [
    "### 否定\n",
    "否定$\\lnot$の真理表"
   ]
  },
  {
   "cell_type": "code",
   "execution_count": 11,
   "metadata": {},
   "outputs": [
    {
     "data": {
      "text/plain": [
       "False"
      ]
     },
     "execution_count": 11,
     "metadata": {},
     "output_type": "execute_result"
    }
   ],
   "source": [
    "not True"
   ]
  },
  {
   "cell_type": "code",
   "execution_count": 12,
   "metadata": {},
   "outputs": [
    {
     "name": "stdout",
     "output_type": "stream",
     "text": [
      "False\n"
     ]
    }
   ],
   "source": [
    "age = 25\n",
    "\n",
    "if not (age >= 20):\n",
    "    print(\"20歳以上でない\")\n",
    "else:\n",
    "    print(\"False\")"
   ]
  },
  {
   "cell_type": "code",
   "execution_count": 13,
   "metadata": {},
   "outputs": [
    {
     "name": "stdout",
     "output_type": "stream",
     "text": [
      "  p  |   not p\n",
      "----------------\n",
      "True | False\n",
      "False | True\n"
     ]
    }
   ],
   "source": [
    "print('  p  |   not p')\n",
    "print('----------------')\n",
    "for p in (True, False):\n",
    "    print(p,'|', not p)"
   ]
  },
  {
   "cell_type": "markdown",
   "metadata": {},
   "source": [
    "p.11 式(2.4) $\\neg p \\lor \\neg q$"
   ]
  },
  {
   "cell_type": "code",
   "execution_count": 14,
   "metadata": {},
   "outputs": [
    {
     "name": "stdout",
     "output_type": "stream",
     "text": [
      "  p  |   q   |  (not p) or (not q)\n",
      "-----------------------\n",
      "True | True | False\n",
      "True | False | True\n",
      "False | True | True\n",
      "False | False | True\n"
     ]
    }
   ],
   "source": [
    "print('  p  |   q   |  (not p) or (not q)')\n",
    "print('-----------------------')\n",
    "for p in (True, False):\n",
    "    for q in (True, False):\n",
    "        print(p,'|', q,'|', (not p) or (not q))"
   ]
  },
  {
   "cell_type": "markdown",
   "metadata": {},
   "source": [
    "### 条件式\n",
    "条件式$\\to$と同値の真理表を構成する．条件式の関数`cond(p, q)`を定義する．"
   ]
  },
  {
   "cell_type": "code",
   "execution_count": 15,
   "metadata": {},
   "outputs": [],
   "source": [
    "def cond(p:bool, q:bool) -> bool:\n",
    "    r = (not p) or q\n",
    "    return r"
   ]
  },
  {
   "cell_type": "code",
   "execution_count": 16,
   "metadata": {},
   "outputs": [
    {
     "name": "stdout",
     "output_type": "stream",
     "text": [
      "  p  |   q   |  (not p) or (not q)\n",
      "-----------------------\n",
      "True | True | True\n",
      "True | False | False\n",
      "False | True | True\n",
      "False | False | True\n"
     ]
    }
   ],
   "source": [
    "print('  p  |   q   |  (not p) or (not q)')\n",
    "print('-----------------------')\n",
    "for p in (True, False):\n",
    "    for q in (True, False):\n",
    "        print(p,'|', q,'|', cond(p, q))"
   ]
  },
  {
   "cell_type": "markdown",
   "metadata": {},
   "source": [
    "### 双条件式\n",
    "双条件式$\\leftrightarrow$と同値の真理表を構成する．条件式の関数`bicond(p, q)`を定義する．"
   ]
  },
  {
   "cell_type": "code",
   "execution_count": 17,
   "metadata": {},
   "outputs": [],
   "source": [
    "def bicond(p:bool, q:bool) -> bool:\n",
    "    r = (p and q) or ((not p) and (not q))\n",
    "    return r"
   ]
  },
  {
   "cell_type": "code",
   "execution_count": 18,
   "metadata": {},
   "outputs": [
    {
     "name": "stdout",
     "output_type": "stream",
     "text": [
      "  p  |   q   |  p <--> q\n",
      "-----------------------\n",
      "True | True | True\n",
      "True | False | False\n",
      "False | True | False\n",
      "False | False | True\n"
     ]
    }
   ],
   "source": [
    "print('  p  |   q   |  p <--> q')\n",
    "print('-----------------------')\n",
    "for p in (True, False):\n",
    "    for q in (True, False):\n",
    "        print(p,'|', q,'|', bicond(p, q))"
   ]
  },
  {
   "cell_type": "markdown",
   "metadata": {},
   "source": [
    "## 3章  論理(2)"
   ]
  },
  {
   "cell_type": "markdown",
   "metadata": {},
   "source": [
    "### トートロジ"
   ]
  },
  {
   "cell_type": "markdown",
   "metadata": {},
   "source": [
    "$p\\to p$"
   ]
  },
  {
   "cell_type": "code",
   "execution_count": 19,
   "metadata": {},
   "outputs": [
    {
     "name": "stdout",
     "output_type": "stream",
     "text": [
      "  p  |   q   |  p -> p\n",
      "-----------------------\n",
      "True | True | True\n",
      "True | False | True\n",
      "False | True | True\n",
      "False | False | True\n"
     ]
    }
   ],
   "source": [
    "print('  p  |   q   |  p -> p')\n",
    "print('-----------------------')\n",
    "for p in (True, False):\n",
    "    for q in (True, False):\n",
    "        print(p,'|', q,'|',  cond(p, p))"
   ]
  },
  {
   "cell_type": "markdown",
   "metadata": {},
   "source": [
    "$p\\to p \\lor q$"
   ]
  },
  {
   "cell_type": "code",
   "execution_count": 20,
   "metadata": {},
   "outputs": [
    {
     "name": "stdout",
     "output_type": "stream",
     "text": [
      "  p  |   q   |  p -> p or q\n",
      "-----------------------\n",
      "True | True | True\n",
      "True | False | True\n",
      "False | True | True\n",
      "False | False | True\n"
     ]
    }
   ],
   "source": [
    "print('  p  |   q   |  p -> p or q')\n",
    "print('-----------------------')\n",
    "for p in (True, False):\n",
    "    for q in (True, False):\n",
    "        print(p,'|', q,'|', cond(p, p or q))"
   ]
  },
  {
   "cell_type": "markdown",
   "metadata": {},
   "source": [
    "$\\neg (p \\land q) \\leftrightarrow \\neg p \\lor \\neg q $"
   ]
  },
  {
   "cell_type": "code",
   "execution_count": 21,
   "metadata": {},
   "outputs": [
    {
     "name": "stdout",
     "output_type": "stream",
     "text": [
      "  p  |   q   |  P <--> Q\n",
      "-----------------------\n",
      "True | True | True\n",
      "True | False | True\n",
      "False | True | True\n",
      "False | False | True\n"
     ]
    }
   ],
   "source": [
    "print('  p  |   q   |  P <--> Q')\n",
    "print('-----------------------')\n",
    "for p in (True, False):\n",
    "    for q in (True, False):\n",
    "        P = not (p and q)\n",
    "        Q = not p or not q\n",
    "        print(p,'|', q,'|', bicond(P, Q))"
   ]
  },
  {
   "cell_type": "markdown",
   "metadata": {},
   "source": [
    "### 逆，裏，対偶"
   ]
  },
  {
   "cell_type": "code",
   "execution_count": 22,
   "metadata": {},
   "outputs": [
    {
     "name": "stdout",
     "output_type": "stream",
     "text": [
      "  p  |   q   |  p -> q  | q -> p | not p -> not q | not q -> not p\n",
      "-----------------------\n",
      "True | True | True | True | True | True\n",
      "True | False | False | True | True | False\n",
      "False | True | True | False | False | True\n",
      "False | False | True | True | True | True\n"
     ]
    }
   ],
   "source": [
    "print('  p  |   q   |  p -> q  | q -> p | not p -> not q | not q -> not p')\n",
    "print('-----------------------')\n",
    "for p in (True, False):\n",
    "    for q in (True, False):\n",
    "        print(p,'|', q,'|', cond(p, q),'|', cond(q, p),'|', cond(not p, not q),'|', cond(not q, not p))"
   ]
  }
 ],
 "metadata": {
  "interpreter": {
   "hash": "71c8d2e717b061ce967b4ebfe17625d3e606571fe5b924e7991b5e1abc7ad8fb"
  },
  "kernelspec": {
   "display_name": "Python 3.8.5 64-bit ('base': conda)",
   "language": "python",
   "name": "python3"
  },
  "language_info": {
   "codemirror_mode": {
    "name": "ipython",
    "version": 3
   },
   "file_extension": ".py",
   "mimetype": "text/x-python",
   "name": "python",
   "nbconvert_exporter": "python",
   "pygments_lexer": "ipython3",
   "version": "3.8.12"
  }
 },
 "nbformat": 4,
 "nbformat_minor": 2
}
