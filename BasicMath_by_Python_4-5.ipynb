{
 "cells": [
  {
   "cell_type": "markdown",
   "metadata": {},
   "source": [
    "# Basic Mathmatics by Python 4-5\n",
    "KGSOC「数理・データサイエンスのための基礎数学」参考資料\n",
    "\n",
    "石田　淳 (aishida@kwansei.ac.jp)"
   ]
  },
  {
   "cell_type": "markdown",
   "metadata": {},
   "source": [
    "## 4-5章　集合(1-2)"
   ]
  },
  {
   "cell_type": "markdown",
   "metadata": {},
   "source": [
    "Pythonにはデフォルトで集合型オブジェクトset(), { }がある．"
   ]
  },
  {
   "cell_type": "code",
   "execution_count": 1,
   "metadata": {},
   "outputs": [
    {
     "data": {
      "text/plain": [
       "set"
      ]
     },
     "execution_count": 1,
     "metadata": {},
     "output_type": "execute_result"
    }
   ],
   "source": [
    "A = {1,2,3}\n",
    "B = {1,2,3,4,5}\n",
    "C = {3,4,5}\n",
    "type(A)"
   ]
  },
  {
   "cell_type": "markdown",
   "metadata": {},
   "source": [
    "### 要素\n",
    "$a \\in A$"
   ]
  },
  {
   "cell_type": "code",
   "execution_count": 2,
   "metadata": {},
   "outputs": [
    {
     "name": "stdout",
     "output_type": "stream",
     "text": [
      "1  in A is True\n",
      "2  in A is True\n",
      "3  in A is True\n",
      "4  in A is False\n",
      "5  in A is False\n"
     ]
    }
   ],
   "source": [
    "for a in B:\n",
    "    print(a,' in A is', a in A)"
   ]
  },
  {
   "cell_type": "markdown",
   "metadata": {},
   "source": [
    "### 部分集合関係\n",
    "$A\\subset B$"
   ]
  },
  {
   "cell_type": "code",
   "execution_count": 3,
   "metadata": {},
   "outputs": [
    {
     "name": "stdout",
     "output_type": "stream",
     "text": [
      "A <= B is True\n",
      "C <= B is True\n",
      "A <= C is False\n"
     ]
    }
   ],
   "source": [
    "print('A <= B is', A <= B)\n",
    "print('C <= B is', C <= B)\n",
    "print('A <= C is', A <= C)"
   ]
  },
  {
   "cell_type": "markdown",
   "metadata": {},
   "source": [
    "### 空集合\n",
    "$\\emptyset$"
   ]
  },
  {
   "cell_type": "code",
   "execution_count": 4,
   "metadata": {},
   "outputs": [
    {
     "name": "stdout",
     "output_type": "stream",
     "text": [
      "EmpSet <= A is True\n"
     ]
    }
   ],
   "source": [
    "EmpSet = set()\n",
    "print('EmpSet <= A is', EmpSet <= A)"
   ]
  },
  {
   "cell_type": "markdown",
   "metadata": {},
   "source": [
    "### 和集合\n",
    "$A \\cup B$"
   ]
  },
  {
   "cell_type": "code",
   "execution_count": 5,
   "metadata": {},
   "outputs": [
    {
     "name": "stdout",
     "output_type": "stream",
     "text": [
      "A | B = {1, 2, 3, 4, 5}\n",
      "C | B = {1, 2, 3, 4, 5}\n",
      "A | C = {1, 2, 3, 4, 5}\n"
     ]
    }
   ],
   "source": [
    "print('A | B =', A | B)\n",
    "print('C | B =', C | B)\n",
    "print('A | C =', A | C)"
   ]
  },
  {
   "cell_type": "markdown",
   "metadata": {},
   "source": [
    "### 積集合\n",
    "$A \\cap B$"
   ]
  },
  {
   "cell_type": "code",
   "execution_count": 6,
   "metadata": {},
   "outputs": [
    {
     "name": "stdout",
     "output_type": "stream",
     "text": [
      "A & B = {1, 2, 3}\n",
      "C & B = {3, 4, 5}\n",
      "A & C = {3}\n"
     ]
    }
   ],
   "source": [
    "print('A & B =', A & B)\n",
    "print('C & B =', C & B)\n",
    "print('A & C =', A & C)"
   ]
  },
  {
   "cell_type": "markdown",
   "metadata": {},
   "source": [
    "### 補集合\n",
    "$A^c$"
   ]
  },
  {
   "cell_type": "code",
   "execution_count": 7,
   "metadata": {},
   "outputs": [
    {
     "name": "stdout",
     "output_type": "stream",
     "text": [
      "A^B = {4, 5}\n",
      "C^B = {1, 2}\n"
     ]
    }
   ],
   "source": [
    "# Bを全体集合とする\n",
    "print('A^B =', A^B)\n",
    "print('C^B =', C^B)"
   ]
  },
  {
   "cell_type": "markdown",
   "metadata": {},
   "source": [
    "さらに本格的に集合操作したい場合は，パッケージSymPyのFiniteSetを使う（『Pythonからはじめる数学入門』5章）．Anaconda標準にはSympyが入っている（Google Colabにも入っているらしい）．"
   ]
  },
  {
   "cell_type": "code",
   "execution_count": 8,
   "metadata": {},
   "outputs": [],
   "source": [
    "from sympy import FiniteSet as fset"
   ]
  },
  {
   "cell_type": "markdown",
   "metadata": {},
   "source": [
    "### ベキ集合"
   ]
  },
  {
   "cell_type": "code",
   "execution_count": 9,
   "metadata": {},
   "outputs": [
    {
     "name": "stdout",
     "output_type": "stream",
     "text": [
      "Power set of FiniteSet(1, 2, 3) is FiniteSet(FiniteSet(1), FiniteSet(1, 2), FiniteSet(1, 3), FiniteSet(1, 2, 3), FiniteSet(2), FiniteSet(2, 3), FiniteSet(3), EmptySet)\n"
     ]
    }
   ],
   "source": [
    "D = fset(1,2,3)\n",
    "D_ps = D.powerset()\n",
    "print('Power set of', D, 'is', D_ps)"
   ]
  },
  {
   "cell_type": "markdown",
   "metadata": {},
   "source": [
    "### 直積"
   ]
  },
  {
   "cell_type": "code",
   "execution_count": 10,
   "metadata": {},
   "outputs": [
    {
     "name": "stdout",
     "output_type": "stream",
     "text": [
      "ProductSet(FiniteSet(1, 2), FiniteSet(3, 4)) includes:\n",
      "(1, 3)\n",
      "(2, 3)\n",
      "(1, 4)\n",
      "(2, 4)\n"
     ]
    }
   ],
   "source": [
    "S = fset(1,2)\n",
    "T = fset(3,4)\n",
    "P = S*T\n",
    "print(P, 'includes:')\n",
    "for e in P:\n",
    "    print(e)"
   ]
  },
  {
   "cell_type": "markdown",
   "metadata": {},
   "source": [
    "### ベン図\n",
    "`matplotlib_venn`パッケージを使うとベン図が書ける．ただし，別途パッケージのインストールが必要になるかもしれない．\n",
    "インストールはAnacondaの場合Anaconda prompt上で，\n",
    "```\n",
    "conda install -c conda-forge matplotlib-venn\n",
    "```\n",
    "を実行．Pythonを直接入れてる場合は，ターミナルで\n",
    "```\n",
    "pip install matplotlib-venn\n",
    "```\n",
    "でインストール．\n",
    "\n",
    "ベン図には各領域に入る要素数が表示される．"
   ]
  },
  {
   "cell_type": "code",
   "execution_count": 11,
   "metadata": {},
   "outputs": [],
   "source": [
    "from matplotlib_venn import venn2\n",
    "import matplotlib.pyplot as plt"
   ]
  },
  {
   "cell_type": "code",
   "execution_count": 12,
   "metadata": {},
   "outputs": [
    {
     "data": {
      "image/png": "[encoded data removed]",
      "image/svg+xml": "<?xml version=\"1.0\" encoding=\"utf-8\" standalone=\"no\"?>\r\n<!DOCTYPE svg PUBLIC \"-//W3C//DTD SVG 1.1//EN\"\r\n  \"http://www.w3.org/Graphics/SVG/1.1/DTD/svg11.dtd\">\r\n<!-- Created with matplotlib (https://matplotlib.org/) -->\r\n<svg height=\"233.593025pt\" version=\"1.1\" viewBox=\"0 0 289.302675 233.593025\" width=\"289.302675pt\" xmlns=\"http://www.w3.org/2000/svg\" xmlns:xlink=\"http://www.w3.org/1999/xlink\">\r\n <metadata>\r\n  <rdf:RDF xmlns:cc=\"http://creativecommons.org/ns#\" xmlns:dc=\"http://purl.org/dc/elements/1.1/\" xmlns:rdf=\"http://www.w3.org/1999/02/22-rdf-syntax-ns#\">\r\n   <cc:Work>\r\n    <dc:type rdf:resource=\"http://purl.org/dc/dcmitype/StillImage\"/>\r\n    <dc:date>2021-04-01T14:37:50.021638</dc:date>\r\n    <dc:format>image/svg+xml</dc:format>\r\n    <dc:creator>\r\n     <cc:Agent>\r\n      <dc:title>Matplotlib v3.3.2, https://matplotlib.org/</dc:title>\r\n     </cc:Agent>\r\n    </dc:creator>\r\n   </cc:Work>\r\n  </rdf:RDF>\r\n </metadata>\r\n <defs>\r\n  <style type=\"text/css\">*{stroke-linecap:butt;stroke-linejoin:round;}</style>\r\n </defs>\r\n <g id=\"figure_1\">\r\n  <g id=\"patch_1\">\r\n   <path d=\"M 0 233.593025 \r\nL 289.302675 233.593025 \r\nL 289.302675 0 \r\nL 0 0 \r\nz\r\n\" style=\"fill:none;\"/>\r\n  </g>\r\n  <g id=\"axes_1\">\r\n   <g id=\"patch_2\">\r\n    <path clip-path=\"url(#pf0f0e863ed)\" d=\"M 144.651337 201.075734 \r\nC 126.83444 195.064356 111.345617 183.610255 100.378793 168.335856 \r\nC 89.411969 153.061457 83.510606 134.723683 83.510606 115.92 \r\nC 83.510606 97.116317 89.411969 78.778543 100.378793 63.504144 \r\nC 111.345617 48.229745 126.83444 36.775644 144.651337 30.764266 \r\nC 131.132632 26.203088 116.720107 24.925999 102.610004 27.038997 \r\nC 88.499902 29.151995 75.09371 34.594958 63.504144 42.916118 \r\nC 51.914578 51.237279 42.471407 62.199868 35.958415 74.893988 \r\nC 29.445423 87.588109 26.047931 101.652563 26.047931 115.92 \r\nC 26.047931 130.187437 29.445423 144.251891 35.958415 156.946012 \r\nC 42.471407 169.640132 51.914578 180.602721 63.504144 188.923882 \r\nC 75.09371 197.245042 88.499902 202.688005 102.610004 204.801003 \r\nC 116.720107 206.914001 131.132632 205.636912 144.651337 201.075734 \r\n\" style=\"fill:#ff0000;opacity:0.4;\"/>\r\n   </g>\r\n   <g id=\"patch_3\">\r\n    <path clip-path=\"url(#pf0f0e863ed)\" d=\"M 144.651337 30.764266 \r\nC 162.468234 36.775644 177.957058 48.229745 188.923882 63.504144 \r\nC 199.890705 78.778543 205.792069 97.116317 205.792069 115.92 \r\nC 205.792069 134.723683 199.890705 153.061457 188.923882 168.335856 \r\nC 177.957058 183.610255 162.468234 195.064356 144.651337 201.075734 \r\nC 158.170043 205.636912 172.582568 206.914001 186.69267 204.801003 \r\nC 200.802773 202.688005 214.208965 197.245042 225.798531 188.923882 \r\nC 237.388097 180.602721 246.831268 169.640132 253.34426 156.946012 \r\nC 259.857251 144.251891 263.254743 130.187437 263.254743 115.92 \r\nC 263.254743 101.652563 259.857251 87.588109 253.34426 74.893988 \r\nC 246.831268 62.199868 237.388097 51.237279 225.798531 42.916118 \r\nC 214.208965 34.594958 200.802773 29.151995 186.69267 27.038997 \r\nC 172.582568 24.925999 158.170043 26.203088 144.651337 30.764266 \r\n\" style=\"fill:#008000;opacity:0.4;\"/>\r\n   </g>\r\n   <g id=\"patch_4\">\r\n    <path clip-path=\"url(#pf0f0e863ed)\" d=\"M 144.651337 201.075734 \r\nC 162.468234 195.064356 177.957058 183.610255 188.923882 168.335856 \r\nC 199.890705 153.061457 205.792069 134.723683 205.792069 115.92 \r\nC 205.792069 97.116317 199.890705 78.778543 188.923882 63.504144 \r\nC 177.957058 48.229745 162.468234 36.775644 144.651337 30.764266 \r\nC 126.83444 36.775644 111.345617 48.229745 100.378793 63.504144 \r\nC 89.411969 78.778543 83.510606 97.116317 83.510606 115.92 \r\nC 83.510606 134.723683 89.411969 153.061457 100.378793 168.335856 \r\nC 111.345617 183.610255 126.83444 195.064356 144.651337 201.075734 \r\n\" style=\"fill:#b25900;opacity:0.4;\"/>\r\n   </g>\r\n   <g id=\"text_1\">\r\n    <!-- 2 -->\r\n    <g transform=\"translate(51.598019 118.679375)scale(0.1 -0.1)\">\r\n     <defs>\r\n      <path d=\"M 19.1875 8.296875 \r\nL 53.609375 8.296875 \r\nL 53.609375 0 \r\nL 7.328125 0 \r\nL 7.328125 8.296875 \r\nQ 12.9375 14.109375 22.625 23.890625 \r\nQ 32.328125 33.6875 34.8125 36.53125 \r\nQ 39.546875 41.84375 41.421875 45.53125 \r\nQ 43.3125 49.21875 43.3125 52.78125 \r\nQ 43.3125 58.59375 39.234375 62.25 \r\nQ 35.15625 65.921875 28.609375 65.921875 \r\nQ 23.96875 65.921875 18.8125 64.3125 \r\nQ 13.671875 62.703125 7.8125 59.421875 \r\nL 7.8125 69.390625 \r\nQ 13.765625 71.78125 18.9375 73 \r\nQ 24.125 74.21875 28.421875 74.21875 \r\nQ 39.75 74.21875 46.484375 68.546875 \r\nQ 53.21875 62.890625 53.21875 53.421875 \r\nQ 53.21875 48.921875 51.53125 44.890625 \r\nQ 49.859375 40.875 45.40625 35.40625 \r\nQ 44.1875 33.984375 37.640625 27.21875 \r\nQ 31.109375 20.453125 19.1875 8.296875 \r\nz\r\n\" id=\"DejaVuSans-50\"/>\r\n     </defs>\r\n     <use xlink:href=\"#DejaVuSans-50\"/>\r\n    </g>\r\n   </g>\r\n   <g id=\"text_2\">\r\n    <!-- 2 -->\r\n    <g transform=\"translate(231.342156 118.679375)scale(0.1 -0.1)\">\r\n     <use xlink:href=\"#DejaVuSans-50\"/>\r\n    </g>\r\n   </g>\r\n   <g id=\"text_3\">\r\n    <!-- 3 -->\r\n    <g transform=\"translate(141.470087 118.679375)scale(0.1 -0.1)\">\r\n     <defs>\r\n      <path d=\"M 40.578125 39.3125 \r\nQ 47.65625 37.796875 51.625 33 \r\nQ 55.609375 28.21875 55.609375 21.1875 \r\nQ 55.609375 10.40625 48.1875 4.484375 \r\nQ 40.765625 -1.421875 27.09375 -1.421875 \r\nQ 22.515625 -1.421875 17.65625 -0.515625 \r\nQ 12.796875 0.390625 7.625 2.203125 \r\nL 7.625 11.71875 \r\nQ 11.71875 9.328125 16.59375 8.109375 \r\nQ 21.484375 6.890625 26.8125 6.890625 \r\nQ 36.078125 6.890625 40.9375 10.546875 \r\nQ 45.796875 14.203125 45.796875 21.1875 \r\nQ 45.796875 27.640625 41.28125 31.265625 \r\nQ 36.765625 34.90625 28.71875 34.90625 \r\nL 20.21875 34.90625 \r\nL 20.21875 43.015625 \r\nL 29.109375 43.015625 \r\nQ 36.375 43.015625 40.234375 45.921875 \r\nQ 44.09375 48.828125 44.09375 54.296875 \r\nQ 44.09375 59.90625 40.109375 62.90625 \r\nQ 36.140625 65.921875 28.71875 65.921875 \r\nQ 24.65625 65.921875 20.015625 65.03125 \r\nQ 15.375 64.15625 9.8125 62.3125 \r\nL 9.8125 71.09375 \r\nQ 15.4375 72.65625 20.34375 73.4375 \r\nQ 25.25 74.21875 29.59375 74.21875 \r\nQ 40.828125 74.21875 47.359375 69.109375 \r\nQ 53.90625 64.015625 53.90625 55.328125 \r\nQ 53.90625 49.265625 50.4375 45.09375 \r\nQ 46.96875 40.921875 40.578125 39.3125 \r\nz\r\n\" id=\"DejaVuSans-51\"/>\r\n     </defs>\r\n     <use xlink:href=\"#DejaVuSans-51\"/>\r\n    </g>\r\n   </g>\r\n   <g id=\"text_4\">\r\n    <!-- A -->\r\n    <g transform=\"translate(107.71125 223.8974)scale(0.12 -0.12)\">\r\n     <defs>\r\n      <path d=\"M 34.1875 63.1875 \r\nL 20.796875 26.90625 \r\nL 47.609375 26.90625 \r\nz\r\nM 28.609375 72.90625 \r\nL 39.796875 72.90625 \r\nL 67.578125 0 \r\nL 57.328125 0 \r\nL 50.6875 18.703125 \r\nL 17.828125 18.703125 \r\nL 11.1875 0 \r\nL 0.78125 0 \r\nz\r\n\" id=\"DejaVuSans-65\"/>\r\n     </defs>\r\n     <use xlink:href=\"#DejaVuSans-65\"/>\r\n    </g>\r\n   </g>\r\n   <g id=\"text_5\">\r\n    <!-- B -->\r\n    <g transform=\"translate(173.382675 223.8974)scale(0.12 -0.12)\">\r\n     <defs>\r\n      <path d=\"M 19.671875 34.8125 \r\nL 19.671875 8.109375 \r\nL 35.5 8.109375 \r\nQ 43.453125 8.109375 47.28125 11.40625 \r\nQ 51.125 14.703125 51.125 21.484375 \r\nQ 51.125 28.328125 47.28125 31.5625 \r\nQ 43.453125 34.8125 35.5 34.8125 \r\nz\r\nM 19.671875 64.796875 \r\nL 19.671875 42.828125 \r\nL 34.28125 42.828125 \r\nQ 41.5 42.828125 45.03125 45.53125 \r\nQ 48.578125 48.25 48.578125 53.8125 \r\nQ 48.578125 59.328125 45.03125 62.0625 \r\nQ 41.5 64.796875 34.28125 64.796875 \r\nz\r\nM 9.8125 72.90625 \r\nL 35.015625 72.90625 \r\nQ 46.296875 72.90625 52.390625 68.21875 \r\nQ 58.5 63.53125 58.5 54.890625 \r\nQ 58.5 48.1875 55.375 44.234375 \r\nQ 52.25 40.28125 46.1875 39.3125 \r\nQ 53.46875 37.75 57.5 32.78125 \r\nQ 61.53125 27.828125 61.53125 20.40625 \r\nQ 61.53125 10.640625 54.890625 5.3125 \r\nQ 48.25 0 35.984375 0 \r\nL 9.8125 0 \r\nz\r\n\" id=\"DejaVuSans-66\"/>\r\n     </defs>\r\n     <use xlink:href=\"#DejaVuSans-66\"/>\r\n    </g>\r\n   </g>\r\n  </g>\r\n </g>\r\n <defs>\r\n  <clipPath id=\"pf0f0e863ed\">\r\n   <rect height=\"217.44\" width=\"274.902675\" x=\"7.2\" y=\"7.2\"/>\r\n  </clipPath>\r\n </defs>\r\n</svg>\r\n",
      "text/plain": [
       "<Figure size 432x288 with 1 Axes>"
      ]
     },
     "metadata": {},
     "output_type": "display_data"
    }
   ],
   "source": [
    "A = fset(1,2,3,4,5)\n",
    "B = fset(3,4,5,6,7)\n",
    "venn2([A,B])\n",
    "plt.show()"
   ]
  }
 ],
 "metadata": {
  "kernelspec": {
   "display_name": "Python 3.8.5 64-bit ('base': conda)",
   "name": "python385jvsc74a57bd071c8d2e717b061ce967b4ebfe17625d3e606571fe5b924e7991b5e1abc7ad8fb"
  },
  "language_info": {
   "codemirror_mode": {
    "name": "ipython",
    "version": 3
   },
   "file_extension": ".py",
   "mimetype": "text/x-python",
   "name": "python",
   "nbconvert_exporter": "python",
   "pygments_lexer": "ipython3",
   "version": "3.8.5"
  }
 },
 "nbformat": 4,
 "nbformat_minor": 2
}
