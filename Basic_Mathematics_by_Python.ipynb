{
 "cells": [
  {
   "cell_type": "markdown",
   "metadata": {},
   "source": [
    "# Basic Mathmatics by Python"
   ]
  },
  {
   "cell_type": "markdown",
   "metadata": {},
   "source": [
    "Atsushi Ishida (aishida@kwansei.ac.jp)"
   ]
  },
  {
   "cell_type": "code",
   "execution_count": 87,
   "metadata": {},
   "outputs": [],
   "source": [
    "%matplotlib inline "
   ]
  },
  {
   "cell_type": "markdown",
   "metadata": {},
   "source": [
    "## 1章  論理"
   ]
  },
  {
   "cell_type": "markdown",
   "metadata": {},
   "source": [
    "論理和$\\lor$の真理表"
   ]
  },
  {
   "cell_type": "code",
   "execution_count": 1,
   "metadata": {},
   "outputs": [
    {
     "name": "stdout",
     "output_type": "stream",
     "text": [
      "  p  |   q   |  p | q\n",
      "-----------------------\n",
      "True | True | True\n",
      "True | False | True\n",
      "False | True | True\n",
      "False | False | False\n"
     ]
    }
   ],
   "source": [
    "print('  p  |   q   |  p | q')\n",
    "print('-----------------------')\n",
    "for p in (True, False):\n",
    "    for q in (True, False):\n",
    "        print(p,'|', q,'|', p | q)"
   ]
  },
  {
   "cell_type": "markdown",
   "metadata": {},
   "source": [
    "ちなみに，numpyパッケージを使って以下のようにもできる．"
   ]
  },
  {
   "cell_type": "code",
   "execution_count": 3,
   "metadata": {},
   "outputs": [
    {
     "name": "stdout",
     "output_type": "stream",
     "text": [
      "[[ True  True  True]\n",
      " [ True False  True]\n",
      " [False  True  True]\n",
      " [False False False]]\n"
     ]
    }
   ],
   "source": [
    "import numpy as np\n",
    "p = np.array([True, True, False, False])\n",
    "q = np.array([True, False, True, False])\n",
    "p_or_q = p | q\n",
    "print(np.column_stack([p,q, p_or_q]))"
   ]
  },
  {
   "cell_type": "markdown",
   "metadata": {},
   "source": [
    "論理積$\\land$の真理表"
   ]
  },
  {
   "cell_type": "code",
   "execution_count": 4,
   "metadata": {},
   "outputs": [
    {
     "name": "stdout",
     "output_type": "stream",
     "text": [
      "  p  |   q   |  p & q\n",
      "-----------------------\n",
      "True | True | True\n",
      "True | False | False\n",
      "False | True | False\n",
      "False | False | False\n"
     ]
    }
   ],
   "source": [
    "print('  p  |   q   |  p & q')\n",
    "print('-----------------------')\n",
    "for p in (True, False):\n",
    "    for q in (True, False):\n",
    "        print(p,'|', q,'|', p & q)"
   ]
  },
  {
   "cell_type": "markdown",
   "metadata": {},
   "source": [
    "否定$\\lnot$の真理表"
   ]
  },
  {
   "cell_type": "code",
   "execution_count": 5,
   "metadata": {},
   "outputs": [
    {
     "name": "stdout",
     "output_type": "stream",
     "text": [
      "  p  |   not p\n",
      "----------------\n",
      "True | False\n",
      "False | True\n"
     ]
    }
   ],
   "source": [
    "print('  p  |   not p')\n",
    "print('----------------')\n",
    "for p in (True, False):\n",
    "    print(p,'|', not p)"
   ]
  },
  {
   "cell_type": "markdown",
   "metadata": {},
   "source": [
    "p.9 式(1.4) $\\neg p \\lor \\neg q$"
   ]
  },
  {
   "cell_type": "code",
   "execution_count": 6,
   "metadata": {},
   "outputs": [
    {
     "name": "stdout",
     "output_type": "stream",
     "text": [
      "  p  |   q   |  (not p) | (not q)\n",
      "-----------------------\n",
      "True | True | False\n",
      "True | False | True\n",
      "False | True | True\n",
      "False | False | True\n"
     ]
    }
   ],
   "source": [
    "print('  p  |   q   |  (not p) | (not q)')\n",
    "print('-----------------------')\n",
    "for p in (True, False):\n",
    "    for q in (True, False):\n",
    "        print(p,'|', q,'|', (not p) | (not q))"
   ]
  },
  {
   "cell_type": "markdown",
   "metadata": {},
   "source": [
    "条件式$\\to$と同値の真理表"
   ]
  },
  {
   "cell_type": "code",
   "execution_count": 7,
   "metadata": {},
   "outputs": [
    {
     "name": "stdout",
     "output_type": "stream",
     "text": [
      "  p  |   q   |  (not p) | q\n",
      "-----------------------\n",
      "True | True | True\n",
      "True | False | False\n",
      "False | True | True\n",
      "False | False | True\n"
     ]
    }
   ],
   "source": [
    "print('  p  |   q   |  (not p) | q')\n",
    "print('-----------------------')\n",
    "for p in (True, False):\n",
    "    for q in (True, False):\n",
    "        print(p,'|', q,'|',  (not p) | q)"
   ]
  },
  {
   "cell_type": "markdown",
   "metadata": {},
   "source": [
    "双条件式$\\leftrightarrow$と同値の真理表"
   ]
  },
  {
   "cell_type": "code",
   "execution_count": 8,
   "metadata": {},
   "outputs": [
    {
     "name": "stdout",
     "output_type": "stream",
     "text": [
      "  p  |   q   |  (p & q) | ((not p) & (not q))\n",
      "-----------------------\n",
      "True | True | True\n",
      "True | False | False\n",
      "False | True | False\n",
      "False | False | True\n"
     ]
    }
   ],
   "source": [
    "print('  p  |   q   |  (p & q) | ((not p) & (not q))')\n",
    "print('-----------------------')\n",
    "for p in (True, False):\n",
    "    for q in (True, False):\n",
    "        print(p,'|', q,'|', (p & q) | ((not p) & (not q)))"
   ]
  },
  {
   "cell_type": "markdown",
   "metadata": {},
   "source": [
    "## 2章  集合"
   ]
  },
  {
   "cell_type": "markdown",
   "metadata": {},
   "source": [
    "Pythonにはデフォルトで集合型オブジェクトset(), { }がある．"
   ]
  },
  {
   "cell_type": "markdown",
   "metadata": {},
   "source": [
    "要素：$a \\in A$"
   ]
  },
  {
   "cell_type": "code",
   "execution_count": 9,
   "metadata": {},
   "outputs": [
    {
     "name": "stdout",
     "output_type": "stream",
     "text": [
      "1  in A is True\n",
      "2  in A is True\n",
      "3  in A is True\n",
      "4  in A is False\n",
      "5  in A is False\n"
     ]
    }
   ],
   "source": [
    "A = {1,2,3}\n",
    "B = {1,2,3,4,5}\n",
    "C = {3,4,5}\n",
    "for a in B:\n",
    "    print(a,' in A is', a in A)"
   ]
  },
  {
   "cell_type": "markdown",
   "metadata": {},
   "source": [
    "部分集合関係：$A\\subset B$"
   ]
  },
  {
   "cell_type": "code",
   "execution_count": 10,
   "metadata": {},
   "outputs": [
    {
     "name": "stdout",
     "output_type": "stream",
     "text": [
      "A <= B is True\n",
      "C <= B is True\n",
      "A <= C is False\n"
     ]
    }
   ],
   "source": [
    "print('A <= B is', A <= B)\n",
    "print('C <= B is', C <= B)\n",
    "print('A <= C is', A <= C)"
   ]
  },
  {
   "cell_type": "markdown",
   "metadata": {},
   "source": [
    "空集合：$\\emptyset$"
   ]
  },
  {
   "cell_type": "code",
   "execution_count": 11,
   "metadata": {},
   "outputs": [
    {
     "name": "stdout",
     "output_type": "stream",
     "text": [
      "EmpSet <= A is True\n"
     ]
    }
   ],
   "source": [
    "EmpSet = set()\n",
    "print('EmpSet <= A is', EmpSet <= A)"
   ]
  },
  {
   "cell_type": "markdown",
   "metadata": {},
   "source": [
    "和集合：$A \\cup B$"
   ]
  },
  {
   "cell_type": "code",
   "execution_count": 12,
   "metadata": {},
   "outputs": [
    {
     "name": "stdout",
     "output_type": "stream",
     "text": [
      "A | B = {1, 2, 3, 4, 5}\n",
      "C | B = {1, 2, 3, 4, 5}\n",
      "A | C = {1, 2, 3, 4, 5}\n"
     ]
    }
   ],
   "source": [
    "print('A | B =', A | B)\n",
    "print('C | B =', C | B)\n",
    "print('A | C =', A | C)"
   ]
  },
  {
   "cell_type": "markdown",
   "metadata": {},
   "source": [
    "積集合：$A \\cap B$"
   ]
  },
  {
   "cell_type": "code",
   "execution_count": 13,
   "metadata": {},
   "outputs": [
    {
     "name": "stdout",
     "output_type": "stream",
     "text": [
      "A & B = {1, 2, 3}\n",
      "C & B = {3, 4, 5}\n",
      "A & C = {3}\n"
     ]
    }
   ],
   "source": [
    "print('A & B =', A & B)\n",
    "print('C & B =', C & B)\n",
    "print('A & C =', A & C)"
   ]
  },
  {
   "cell_type": "markdown",
   "metadata": {},
   "source": [
    "補集合：$A^c$"
   ]
  },
  {
   "cell_type": "code",
   "execution_count": 14,
   "metadata": {},
   "outputs": [
    {
     "name": "stdout",
     "output_type": "stream",
     "text": [
      "A^B = {4, 5}\n",
      "C^B = {1, 2}\n"
     ]
    }
   ],
   "source": [
    "# Bを全体集合とする\n",
    "print('A^B =', A^B)\n",
    "print('C^B =', C^B)"
   ]
  },
  {
   "cell_type": "markdown",
   "metadata": {},
   "source": [
    "さらに本格的に集合操作したい場合はSymPyのFiniteSetを使う（『Pythonからはじめる数学入門』5章）．"
   ]
  },
  {
   "cell_type": "code",
   "execution_count": 10,
   "metadata": {},
   "outputs": [],
   "source": [
    "from sympy import FiniteSet as fset"
   ]
  },
  {
   "cell_type": "markdown",
   "metadata": {},
   "source": [
    "べき集合"
   ]
  },
  {
   "cell_type": "code",
   "execution_count": 11,
   "metadata": {},
   "outputs": [
    {
     "name": "stdout",
     "output_type": "stream",
     "text": [
      "Power set of {1, 2, 3} is {EmptySet(), {1}, {2}, {3}, {1, 2}, {1, 3}, {2, 3}, {1, 2, 3}}\n"
     ]
    }
   ],
   "source": [
    "D = fset(1,2,3)\n",
    "D_ps = D.powerset()\n",
    "print('Power set of', D, 'is', D_ps)"
   ]
  },
  {
   "cell_type": "markdown",
   "metadata": {},
   "source": [
    "直積"
   ]
  },
  {
   "cell_type": "code",
   "execution_count": 12,
   "metadata": {},
   "outputs": [
    {
     "name": "stdout",
     "output_type": "stream",
     "text": [
      "{1, 2} x {3, 4} includes:\n",
      "(1, 3)\n",
      "(1, 4)\n",
      "(2, 3)\n",
      "(2, 4)\n"
     ]
    }
   ],
   "source": [
    "S = fset(1,2)\n",
    "T = fset(3,4)\n",
    "P = S*T\n",
    "print(P, 'includes:')\n",
    "for e in P:\n",
    "    print(e)"
   ]
  },
  {
   "cell_type": "markdown",
   "metadata": {},
   "source": [
    "`matplotlib_venn`パッケージを使うとベン図が書ける．ただし，別途パッケージのインストールが必要．\n",
    "インストールはAnacondaの場合Anaconda prompt上で，\n",
    "```\n",
    "conda install -c conda-forge matplotlib-venn\n",
    "```\n",
    "を実行．Pythonを直接入れてる場合は`pip install matplotlib-venn`でやる（Anaconda環境で`pip`を使うと[ややこしいことになるらしい\n",
    "](http://onoz000.hatenablog.com/entry/2018/02/11/142347)）．\n",
    "\n",
    "ベン図には各領域に入る要素数が表示される．"
   ]
  },
  {
   "cell_type": "code",
   "execution_count": 1,
   "metadata": {
    "scrolled": true
   },
   "outputs": [
    {
     "data": {
      "image/png": "[encoded data removed]",
      "text/plain": [
       "<Figure size 432x288 with 1 Axes>"
      ]
     },
     "metadata": {},
     "output_type": "display_data"
    }
   ],
   "source": [
    "from matplotlib_venn import venn2\n",
    "import matplotlib.pyplot as plt\n",
    "%matplotlib inline\n",
    "from sympy import FiniteSet as fset\n",
    "A = fset(1,2,3,4,5)\n",
    "B = fset(3,4,5,6,7)\n",
    "venn2([A,B])\n",
    "plt.show()"
   ]
  },
  {
   "cell_type": "markdown",
   "metadata": {},
   "source": [
    "# 3章　微分"
   ]
  },
  {
   "cell_type": "markdown",
   "metadata": {},
   "source": [
    "極限：$\\lim_{x\\to a} f(x)$は`sympy`の`limit`関数が使える．`Limit`はlimit演算のクラスで`.doit()`メソッドで`limit`と同じ操作になる．無限は`oo`．"
   ]
  },
  {
   "cell_type": "code",
   "execution_count": 20,
   "metadata": {},
   "outputs": [],
   "source": [
    "from sympy import *\n",
    "init_printing()\n",
    "# 変数はsymbolsで定義する．\n",
    "x = symbols('x')"
   ]
  },
  {
   "cell_type": "code",
   "execution_count": 21,
   "metadata": {},
   "outputs": [
    {
     "data": {
      "image/png": "[encoded data removed]",
      "text/latex": [
       "$$\\lim_{x \\to \\infty} x = \\infty$$"
      ],
      "text/plain": [
       "lim x = ∞\n",
       "x─→∞     "
      ]
     },
     "execution_count": 21,
     "metadata": {},
     "output_type": "execute_result"
    }
   ],
   "source": [
    "Eq(Limit(x,x,oo),Limit(x,x,oo).doit())"
   ]
  },
  {
   "cell_type": "code",
   "execution_count": 22,
   "metadata": {},
   "outputs": [
    {
     "data": {
      "image/png": "[encoded data removed]",
      "text/latex": [
       "$$\\lim_{x \\to 1^+} x = 1$$"
      ],
      "text/plain": [
       " lim x = 1\n",
       "x─→1⁺     "
      ]
     },
     "execution_count": 22,
     "metadata": {},
     "output_type": "execute_result"
    }
   ],
   "source": [
    "Eq(Limit(x,x,1),Limit(x,x,1).doit())"
   ]
  },
  {
   "cell_type": "code",
   "execution_count": 23,
   "metadata": {},
   "outputs": [
    {
     "data": {
      "image/png": "[encoded data removed]",
      "text/latex": [
       "$$\\lim_{x \\to 0^+} \\frac{1}{x} = \\infty$$"
      ],
      "text/plain": [
       "     1    \n",
       " lim ─ = ∞\n",
       "x─→0⁺x    "
      ]
     },
     "execution_count": 23,
     "metadata": {},
     "output_type": "execute_result"
    }
   ],
   "source": [
    "Eq(Limit(1/x,x,0),Limit(1/x,x,0).doit())"
   ]
  },
  {
   "cell_type": "code",
   "execution_count": 24,
   "metadata": {},
   "outputs": [
    {
     "data": {
      "image/png": "[encoded data removed]",
      "text/latex": [
       "$$\\lim_{x \\to \\infty} \\frac{1}{x} = 0$$"
      ],
      "text/plain": [
       "    1    \n",
       "lim ─ = 0\n",
       "x─→∞x    "
      ]
     },
     "execution_count": 24,
     "metadata": {},
     "output_type": "execute_result"
    }
   ],
   "source": [
    "Eq(Limit(1/x,x,oo),Limit(1/x,x,oo).doit())"
   ]
  },
  {
   "cell_type": "markdown",
   "metadata": {},
   "source": [
    "微分係数を求める．練習問題3.2.1(p.64)"
   ]
  },
  {
   "cell_type": "code",
   "execution_count": 28,
   "metadata": {},
   "outputs": [],
   "source": [
    "from sympy import *\n",
    "x, a, k = symbols('x a k')"
   ]
  },
  {
   "cell_type": "code",
   "execution_count": 29,
   "metadata": {},
   "outputs": [
    {
     "data": {
      "image/png": "[encoded data removed]",
      "text/latex": [
       "$$\\lim_{x \\to a^+} 1 = 1$$"
      ],
      "text/plain": [
       " lim 1 = 1\n",
       "x─→a⁺     "
      ]
     },
     "execution_count": 29,
     "metadata": {},
     "output_type": "execute_result"
    }
   ],
   "source": [
    "Eq(Limit((x - a)/(x - a),x,a),Limit((x - a)/(x - a),x,a).doit())"
   ]
  },
  {
   "cell_type": "code",
   "execution_count": 31,
   "metadata": {},
   "outputs": [
    {
     "data": {
      "image/png": "[encoded data removed]",
      "text/latex": [
       "$$\\lim_{x \\to a^+}\\left(\\frac{- a^{2} + x^{2}}{- a + x}\\right) = 2 a$$"
      ],
      "text/plain": [
       "     ⎛   2    2⎞      \n",
       "     ⎜- a  + x ⎟      \n",
       " lim ⎜─────────⎟ = 2⋅a\n",
       "x─→a⁺⎝  -a + x ⎠      "
      ]
     },
     "execution_count": 31,
     "metadata": {},
     "output_type": "execute_result"
    }
   ],
   "source": [
    "Eq(Limit((x**2 - a**2)/(x - a),x,a),\n",
    "   Limit((x**2 - a**2)/(x - a),x,a).doit())"
   ]
  },
  {
   "cell_type": "code",
   "execution_count": 33,
   "metadata": {},
   "outputs": [
    {
     "data": {
      "image/png": "[encoded data removed]",
      "text/latex": [
       "$$\\lim_{x \\to a^+}\\left(\\frac{- a^{3} + x^{3}}{- a + x}\\right) = 3 a^{2}$$"
      ],
      "text/plain": [
       "     ⎛   3    3⎞       \n",
       "     ⎜- a  + x ⎟      2\n",
       " lim ⎜─────────⎟ = 3⋅a \n",
       "x─→a⁺⎝  -a + x ⎠       "
      ]
     },
     "execution_count": 33,
     "metadata": {},
     "output_type": "execute_result"
    }
   ],
   "source": [
    "Eq(Limit((x**3 - a**3)/(x - a),x,a),\n",
    "   Limit((x**3 - a**3)/(x - a),x,a).doit())"
   ]
  },
  {
   "cell_type": "markdown",
   "metadata": {},
   "source": [
    "微分して導関数を求める．微分演算のクラスは`Derivative`．もっとも単純には`diff(func, var)`関数を用いる．"
   ]
  },
  {
   "cell_type": "code",
   "execution_count": 76,
   "metadata": {},
   "outputs": [
    {
     "data": {
      "image/png": "[encoded data removed]",
      "text/latex": [
       "$$\\frac{d}{d x} \\left(x^{2} - 2 x + 4\\right) = 2 x - 2$$"
      ],
      "text/plain": [
       "d ⎛ 2          ⎞          \n",
       "──⎝x  - 2⋅x + 4⎠ = 2⋅x - 2\n",
       "dx                        "
      ]
     },
     "execution_count": 76,
     "metadata": {},
     "output_type": "execute_result"
    }
   ],
   "source": [
    "from sympy import *\n",
    "x = symbols('x')\n",
    "f = x**2 - 2*x + 4\n",
    "f_dash = diff(f,x) #Derivative(f).doit()\n",
    "Eq(Derivative(f),f_dash)"
   ]
  },
  {
   "cell_type": "code",
   "execution_count": 68,
   "metadata": {},
   "outputs": [
    {
     "data": {
      "image/png": "[encoded data removed]",
      "text/plain": [
       "<Figure size 432x288 with 1 Axes>"
      ]
     },
     "metadata": {
      "needs_background": "light"
     },
     "output_type": "display_data"
    }
   ],
   "source": [
    "p = plot(f,(x,-4,6),line_color = 'b', show = False)\n",
    "p.extend(plot(f_dash,(x,-4,6),line_color = 'r', show = False))\n",
    "p.show()"
   ]
  },
  {
   "cell_type": "code",
   "execution_count": 69,
   "metadata": {},
   "outputs": [
    {
     "data": {
      "image/png": "[encoded data removed]",
      "text/latex": [
       "$$\\frac{d}{d x} \\log{\\left (x^{2} \\right )} = \\frac{2}{x}$$"
      ],
      "text/plain": [
       "d ⎛   ⎛ 2⎞⎞   2\n",
       "──⎝log⎝x ⎠⎠ = ─\n",
       "dx            x"
      ]
     },
     "execution_count": 69,
     "metadata": {},
     "output_type": "execute_result"
    }
   ],
   "source": [
    "f = log(x**2)\n",
    "f_dash = diff(f,x) #Derivative(f).doit()\n",
    "Eq(Derivative(f),f_dash)"
   ]
  },
  {
   "cell_type": "code",
   "execution_count": 75,
   "metadata": {},
   "outputs": [
    {
     "data": {
      "image/png": "[encoded data removed]",
      "text/plain": [
       "<Figure size 432x288 with 1 Axes>"
      ]
     },
     "metadata": {
      "needs_background": "light"
     },
     "output_type": "display_data"
    }
   ],
   "source": [
    "p = plot(f,(x,0.1,2),axis_center = (0,0), xlim = [0,2],\n",
    "         line_color = 'b', show = False)\n",
    "p.extend(plot(f_dash,(x,0.1,2),axis_center = (0,0), xlim = [0,2],\n",
    "              line_color = 'r', show = False))\n",
    "p.show()"
   ]
  },
  {
   "cell_type": "markdown",
   "metadata": {},
   "source": [
    "# 4章 積分"
   ]
  },
  {
   "cell_type": "markdown",
   "metadata": {},
   "source": [
    "積分演算のクラスは`Integral`，関数は`integrate`．"
   ]
  },
  {
   "cell_type": "code",
   "execution_count": 95,
   "metadata": {},
   "outputs": [
    {
     "data": {
      "image/png": "[encoded data removed]",
      "text/latex": [
       "$$\\int x^{2}\\, dx = \\frac{x^{3}}{3}$$"
      ],
      "text/plain": [
       "⌠          3\n",
       "⎮  2      x \n",
       "⎮ x  dx = ──\n",
       "⌡         3 "
      ]
     },
     "execution_count": 95,
     "metadata": {},
     "output_type": "execute_result"
    }
   ],
   "source": [
    "from sympy import *\n",
    "x = symbols('x')\n",
    "f = x**2\n",
    "F = integrate(f,x) #Integral(f).doit()\n",
    "Eq(Integral(f,x),F)"
   ]
  },
  {
   "cell_type": "code",
   "execution_count": 97,
   "metadata": {},
   "outputs": [
    {
     "data": {
      "image/png": "[encoded data removed]",
      "text/plain": [
       "<Figure size 432x288 with 1 Axes>"
      ]
     },
     "metadata": {
      "needs_background": "light"
     },
     "output_type": "display_data"
    }
   ],
   "source": [
    "p = plot(f,(x,-5,5),line_color = 'b', show = False)\n",
    "p.extend(plot(F,(x,-5,5),line_color = 'r', show = False))\n",
    "p.show()"
   ]
  },
  {
   "cell_type": "markdown",
   "metadata": {},
   "source": [
    "定積分．"
   ]
  },
  {
   "cell_type": "code",
   "execution_count": 96,
   "metadata": {},
   "outputs": [
    {
     "data": {
      "image/png": "[encoded data removed]",
      "text/latex": [
       "$$\\int_{0}^{1} x^{2}\\, dx = \\frac{1}{3}$$"
      ],
      "text/plain": [
       "1            \n",
       "⌠            \n",
       "⎮  2         \n",
       "⎮ x  dx = 1/3\n",
       "⌡            \n",
       "0            "
      ]
     },
     "execution_count": 96,
     "metadata": {},
     "output_type": "execute_result"
    }
   ],
   "source": [
    "Eq(Integral(f,(x,0,1)),F.subs(x,1)-F.subs(x,0)) #integrate(f,(x,0,1))"
   ]
  },
  {
   "cell_type": "markdown",
   "metadata": {},
   "source": [
    "ロジスティック分布（$\\mu =0, s = 1$）．"
   ]
  },
  {
   "cell_type": "code",
   "execution_count": 107,
   "metadata": {},
   "outputs": [
    {
     "data": {
      "image/png": "[encoded data removed]",
      "text/latex": [
       "$$\\int \\frac{e^{- x}}{\\left(1 + e^{- x}\\right)^{2}}\\, dx = \\frac{1}{1 + e^{- x}}$$"
      ],
      "text/plain": [
       "⌠                        \n",
       "⎮     -x                 \n",
       "⎮    ℯ               1   \n",
       "⎮ ────────── dx = ───────\n",
       "⎮          2           -x\n",
       "⎮ ⎛     -x⎞       1 + ℯ  \n",
       "⎮ ⎝1 + ℯ  ⎠              \n",
       "⌡                        "
      ]
     },
     "execution_count": 107,
     "metadata": {},
     "output_type": "execute_result"
    }
   ],
   "source": [
    "logistic_pdf = exp(-x)/(1 + exp(-x))**2\n",
    "logistic_cdf = integrate(logistic_pdf, x)\n",
    "Eq(Integral(logistic_pdf,x),logistic_cdf)"
   ]
  },
  {
   "cell_type": "code",
   "execution_count": 109,
   "metadata": {},
   "outputs": [
    {
     "data": {
      "image/png": "[encoded data removed]",
      "text/plain": [
       "<Figure size 432x288 with 1 Axes>"
      ]
     },
     "metadata": {
      "needs_background": "light"
     },
     "output_type": "display_data"
    }
   ],
   "source": [
    "p = plot(logistic_pdf,(x,-3,3),line_color = 'b', show = False)\n",
    "p.extend(plot(logistic_cdf,(x,-3,3),line_color = 'r',\n",
    "              show = False))\n",
    "p.show()"
   ]
  }
 ],
 "metadata": {
  "kernelspec": {
   "display_name": "Python 3",
   "language": "python",
   "name": "python3"
  },
  "language_info": {
   "codemirror_mode": {
    "name": "ipython",
    "version": 3
   },
   "file_extension": ".py",
   "mimetype": "text/x-python",
   "name": "python",
   "nbconvert_exporter": "python",
   "pygments_lexer": "ipython3",
   "version": "3.7.3"
  }
 },
 "nbformat": 4,
 "nbformat_minor": 2
}
