{
 "cells": [
  {
   "cell_type": "markdown",
   "metadata": {},
   "source": [
    "# Basic Mathmatics by Python 2-3\n",
    "2021年度KGSOC「数理・データサイエンスのための基礎数学」参考資料\n",
    "\n",
    "石田　淳 (aishida@kwansei.ac.jp)"
   ]
  },
  {
   "cell_type": "markdown",
   "metadata": {},
   "source": [
    "## 2章  論理(1)"
   ]
  },
  {
   "source": [
    "Pythonでは，TrueとFalseのブール値（真理値）がある．`type()`関数で確認する．"
   ],
   "cell_type": "markdown",
   "metadata": {}
  },
  {
   "cell_type": "code",
   "execution_count": 1,
   "metadata": {},
   "outputs": [
    {
     "output_type": "execute_result",
     "data": {
      "text/plain": [
       "[bool, bool]"
      ]
     },
     "metadata": {},
     "execution_count": 1
    }
   ],
   "source": [
    "[type(True), type(False)]"
   ]
  },
  {
   "source": [
    "### 論理和\n",
    "論理和$\\lor$は，Pythonではそのまま`or`である．"
   ],
   "cell_type": "markdown",
   "metadata": {}
  },
  {
   "cell_type": "code",
   "execution_count": 2,
   "metadata": {},
   "outputs": [
    {
     "output_type": "execute_result",
     "data": {
      "text/plain": [
       "True"
      ]
     },
     "metadata": {},
     "execution_count": 2
    }
   ],
   "source": [
    "True or False"
   ]
  },
  {
   "source": [
    "age = 18\n",
    "gender = \"F\"\n",
    "\n",
    "if (age >= 20) or (gender == \"M\"):\n",
    "    print(\"20歳以上もしくは男性\")\n",
    "else:\n",
    "    print(\"False\")"
   ],
   "cell_type": "code",
   "metadata": {},
   "execution_count": 3,
   "outputs": [
    {
     "output_type": "stream",
     "name": "stdout",
     "text": [
      "False\n"
     ]
    }
   ]
  },
  {
   "source": [
    "論理和$\\lor$の真理表を構成する．"
   ],
   "cell_type": "markdown",
   "metadata": {}
  },
  {
   "cell_type": "code",
   "execution_count": 4,
   "metadata": {},
   "outputs": [
    {
     "output_type": "stream",
     "name": "stdout",
     "text": [
      "  p  |   q   |  p or q\n-----------------------\nTrue | True | True\nTrue | False | True\nFalse | True | True\nFalse | False | False\n"
     ]
    }
   ],
   "source": [
    "print('  p  |   q   |  p or q')\n",
    "print('-----------------------')\n",
    "for p in (True, False):\n",
    "    for q in (True, False):\n",
    "        print(p,'|', q,'|', p or q)"
   ]
  },
  {
   "source": [
    "map関数を使って同じことをやる．"
   ],
   "cell_type": "markdown",
   "metadata": {}
  },
  {
   "cell_type": "code",
   "execution_count": 5,
   "metadata": {},
   "outputs": [],
   "source": [
    "p = [True, True, False, False]\n",
    "q = [True, False, True, False]"
   ]
  },
  {
   "cell_type": "code",
   "execution_count": 6,
   "metadata": {},
   "outputs": [
    {
     "output_type": "execute_result",
     "data": {
      "text/plain": [
       "[True, True, True, False]"
      ]
     },
     "metadata": {},
     "execution_count": 6
    }
   ],
   "source": [
    "list(map(lambda x, y: x or y, p, q))"
   ]
  },
  {
   "cell_type": "code",
   "execution_count": 7,
   "metadata": {},
   "outputs": [],
   "source": [
    "# # ちなみに，numpyパッケージを使って以下のようにもできる．\n",
    "# import numpy as np\n",
    "# p = np.array([True, True, False, False])\n",
    "# q = np.array([True, False, True, False])\n",
    "# p_or_q = p | q # orだとエラーになる．ビッド演算子を使う．\n",
    "# print(np.column_stack([p,q, p_or_q]))"
   ]
  },
  {
   "cell_type": "markdown",
   "metadata": {},
   "source": [
    "### 論理積\n",
    "論理積$\\land$の真理表"
   ]
  },
  {
   "cell_type": "code",
   "execution_count": 8,
   "metadata": {},
   "outputs": [
    {
     "output_type": "execute_result",
     "data": {
      "text/plain": [
       "False"
      ]
     },
     "metadata": {},
     "execution_count": 8
    }
   ],
   "source": [
    "True and False"
   ]
  },
  {
   "cell_type": "code",
   "execution_count": 9,
   "metadata": {},
   "outputs": [
    {
     "output_type": "stream",
     "name": "stdout",
     "text": [
      "20歳以上かつ男性\n"
     ]
    }
   ],
   "source": [
    "age = 25\n",
    "gender = \"M\"\n",
    "\n",
    "if (age >= 20) and (gender == \"M\"):\n",
    "    print(\"20歳以上かつ男性\")\n",
    "else:\n",
    "    print(\"False\")"
   ]
  },
  {
   "cell_type": "code",
   "execution_count": 10,
   "metadata": {},
   "outputs": [
    {
     "output_type": "stream",
     "name": "stdout",
     "text": [
      "  p  |   q   |  p and q\n-----------------------\nTrue | True | True\nTrue | False | False\nFalse | True | False\nFalse | False | False\n"
     ]
    }
   ],
   "source": [
    "print('  p  |   q   |  p and q')\n",
    "print('-----------------------')\n",
    "for p in (True, False):\n",
    "    for q in (True, False):\n",
    "        print(p,'|', q,'|', p and q)"
   ]
  },
  {
   "cell_type": "markdown",
   "metadata": {},
   "source": [
    "### 否定\n",
    "否定$\\lnot$の真理表"
   ]
  },
  {
   "cell_type": "code",
   "execution_count": 11,
   "metadata": {},
   "outputs": [
    {
     "output_type": "execute_result",
     "data": {
      "text/plain": [
       "False"
      ]
     },
     "metadata": {},
     "execution_count": 11
    }
   ],
   "source": [
    "not True"
   ]
  },
  {
   "cell_type": "code",
   "execution_count": 12,
   "metadata": {},
   "outputs": [
    {
     "output_type": "stream",
     "name": "stdout",
     "text": [
      "False\n"
     ]
    }
   ],
   "source": [
    "age = 25\n",
    "\n",
    "if not (age >= 20):\n",
    "    print(\"20歳以上でない\")\n",
    "else:\n",
    "    print(\"False\")"
   ]
  },
  {
   "cell_type": "code",
   "execution_count": 13,
   "metadata": {},
   "outputs": [
    {
     "output_type": "stream",
     "name": "stdout",
     "text": [
      "  p  |   not p\n----------------\nTrue | False\nFalse | True\n"
     ]
    }
   ],
   "source": [
    "print('  p  |   not p')\n",
    "print('----------------')\n",
    "for p in (True, False):\n",
    "    print(p,'|', not p)"
   ]
  },
  {
   "cell_type": "markdown",
   "metadata": {},
   "source": [
    "p.11 式(2.4) $\\neg p \\lor \\neg q$"
   ]
  },
  {
   "cell_type": "code",
   "execution_count": 14,
   "metadata": {},
   "outputs": [
    {
     "output_type": "stream",
     "name": "stdout",
     "text": [
      "  p  |   q   |  (not p) or (not q)\n-----------------------\nTrue | True | False\nTrue | False | True\nFalse | True | True\nFalse | False | True\n"
     ]
    }
   ],
   "source": [
    "print('  p  |   q   |  (not p) or (not q)')\n",
    "print('-----------------------')\n",
    "for p in (True, False):\n",
    "    for q in (True, False):\n",
    "        print(p,'|', q,'|', (not p) or (not q))"
   ]
  },
  {
   "cell_type": "markdown",
   "metadata": {},
   "source": [
    "### 条件式\n",
    "条件式$\\to$と同値の真理表を構成する．条件式の関数`cond(p, q)`を定義する．"
   ]
  },
  {
   "cell_type": "code",
   "execution_count": 15,
   "metadata": {},
   "outputs": [],
   "source": [
    "def cond(p:bool, q:bool) -> bool:\n",
    "    r = (not p) or q\n",
    "    return r"
   ]
  },
  {
   "cell_type": "code",
   "execution_count": 16,
   "metadata": {},
   "outputs": [
    {
     "output_type": "stream",
     "name": "stdout",
     "text": [
      "  p  |   q   |  (not p) or (not q)\n-----------------------\nTrue | True | True\nTrue | False | False\nFalse | True | True\nFalse | False | True\n"
     ]
    }
   ],
   "source": [
    "print('  p  |   q   |  (not p) or (not q)')\n",
    "print('-----------------------')\n",
    "for p in (True, False):\n",
    "    for q in (True, False):\n",
    "        print(p,'|', q,'|', cond(p, q))"
   ]
  },
  {
   "cell_type": "markdown",
   "metadata": {},
   "source": [
    "### 双条件式\n",
    "双条件式$\\leftrightarrow$と同値の真理表を構成する．条件式の関数`bicond(p, q)`を定義する．"
   ]
  },
  {
   "cell_type": "code",
   "execution_count": 17,
   "metadata": {},
   "outputs": [],
   "source": [
    "def bicond(p:bool, q:bool) -> bool:\n",
    "    r = (p and q) or ((not p) and (not q))\n",
    "    return r"
   ]
  },
  {
   "cell_type": "code",
   "execution_count": 18,
   "metadata": {},
   "outputs": [
    {
     "output_type": "stream",
     "name": "stdout",
     "text": [
      "  p  |   q   |  p <--> q\n-----------------------\nTrue | True | True\nTrue | False | False\nFalse | True | False\nFalse | False | True\n"
     ]
    }
   ],
   "source": [
    "print('  p  |   q   |  p <--> q')\n",
    "print('-----------------------')\n",
    "for p in (True, False):\n",
    "    for q in (True, False):\n",
    "        print(p,'|', q,'|', bicond(p, q))"
   ]
  },
  {
   "source": [
    "## 3章  論理(2)"
   ],
   "cell_type": "markdown",
   "metadata": {}
  },
  {
   "source": [
    "### トートロジ"
   ],
   "cell_type": "markdown",
   "metadata": {}
  },
  {
   "source": [
    "$p\\to p$"
   ],
   "cell_type": "markdown",
   "metadata": {}
  },
  {
   "cell_type": "code",
   "execution_count": 19,
   "metadata": {},
   "outputs": [
    {
     "output_type": "stream",
     "name": "stdout",
     "text": [
      "  p  |   q   |  p -> p\n-----------------------\nTrue | True | True\nTrue | False | True\nFalse | True | True\nFalse | False | True\n"
     ]
    }
   ],
   "source": [
    "print('  p  |   q   |  p -> p')\n",
    "print('-----------------------')\n",
    "for p in (True, False):\n",
    "    for q in (True, False):\n",
    "        print(p,'|', q,'|',  cond(p, p))"
   ]
  },
  {
   "source": [
    "$p\\to p \\lor q$"
   ],
   "cell_type": "markdown",
   "metadata": {}
  },
  {
   "cell_type": "code",
   "execution_count": 20,
   "metadata": {},
   "outputs": [
    {
     "output_type": "stream",
     "name": "stdout",
     "text": [
      "  p  |   q   |  p -> p or q\n-----------------------\nTrue | True | True\nTrue | False | True\nFalse | True | True\nFalse | False | True\n"
     ]
    }
   ],
   "source": [
    "print('  p  |   q   |  p -> p or q')\n",
    "print('-----------------------')\n",
    "for p in (True, False):\n",
    "    for q in (True, False):\n",
    "        print(p,'|', q,'|', cond(p, p or q))"
   ]
  },
  {
   "source": [
    "$\\neg (p \\land q) \\leftrightarrow \\neg p \\lor \\neg q $"
   ],
   "cell_type": "markdown",
   "metadata": {}
  },
  {
   "cell_type": "code",
   "execution_count": 21,
   "metadata": {},
   "outputs": [
    {
     "output_type": "stream",
     "name": "stdout",
     "text": [
      "  p  |   q   |  P <--> Q\n-----------------------\nTrue | True | True\nTrue | False | True\nFalse | True | True\nFalse | False | True\n"
     ]
    }
   ],
   "source": [
    "print('  p  |   q   |  P <--> Q')\n",
    "print('-----------------------')\n",
    "for p in (True, False):\n",
    "    for q in (True, False):\n",
    "        P = not (p and q)\n",
    "        Q = not p or not q\n",
    "        print(p,'|', q,'|', bicond(P, Q))"
   ]
  },
  {
   "source": [
    "### 逆，裏，対偶"
   ],
   "cell_type": "markdown",
   "metadata": {}
  },
  {
   "cell_type": "code",
   "execution_count": 22,
   "metadata": {},
   "outputs": [
    {
     "output_type": "stream",
     "name": "stdout",
     "text": [
      "  p  |   q   |  p -> q  | q -> p | not p -> not q | not q -> not p\n",
      "-----------------------\n",
      "True | True | True | True | True | True\n",
      "True | False | False | True | True | False\n",
      "False | True | True | False | False | True\n",
      "False | False | True | True | True | True\n"
     ]
    }
   ],
   "source": [
    "print('  p  |   q   |  p -> q  | q -> p | not p -> not q | not q -> not p')\n",
    "print('-----------------------')\n",
    "for p in (True, False):\n",
    "    for q in (True, False):\n",
    "        print(p,'|', q,'|', cond(p, q),'|', cond(q, p),'|', cond(not p, not q),'|', cond(not q, not p))"
   ]
  }
 ],
 "metadata": {
  "kernelspec": {
   "name": "python385jvsc74a57bd071c8d2e717b061ce967b4ebfe17625d3e606571fe5b924e7991b5e1abc7ad8fb",
   "display_name": "Python 3.8.5 64-bit ('base': conda)"
  },
  "language_info": {
   "codemirror_mode": {
    "name": "ipython",
    "version": 3
   },
   "file_extension": ".py",
   "mimetype": "text/x-python",
   "name": "python",
   "nbconvert_exporter": "python",
   "pygments_lexer": "ipython3",
   "version": "3.8.5"
  }
 },
 "nbformat": 4,
 "nbformat_minor": 2
}